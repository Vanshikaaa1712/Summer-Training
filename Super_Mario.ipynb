{
  "nbformat": 4,
  "nbformat_minor": 0,
  "metadata": {
    "colab": {
      "name": "Super_Mario.ipynb",
      "provenance": [],
      "authorship_tag": "ABX9TyOxcaHohDW1uC6zU9g/TYya",
      "include_colab_link": true
    },
    "kernelspec": {
      "name": "python3",
      "display_name": "Python 3"
    },
    "language_info": {
      "name": "python"
    }
  },
  "cells": [
    {
      "cell_type": "markdown",
      "metadata": {
        "id": "view-in-github",
        "colab_type": "text"
      },
      "source": [
        "<a href=\"https://colab.research.google.com/github/Vanshikaaa1712/Summer-Training/blob/master/Super_Mario.ipynb\" target=\"_parent\"><img src=\"https://colab.research.google.com/assets/colab-badge.svg\" alt=\"Open In Colab\"/></a>"
      ]
    },
    {
      "cell_type": "markdown",
      "source": [
        "# **1. SETUP MARIO**"
      ],
      "metadata": {
        "id": "uMSf_Ow8z_96"
      }
    },
    {
      "cell_type": "code",
      "source": [
        "pip install gym-super-mario-bros==7.4.0 nes_py"
      ],
      "metadata": {
        "colab": {
          "base_uri": "https://localhost:8080/"
        },
        "id": "dy5RN1rl0ykD",
        "outputId": "b9ed39e4-5506-4ba5-ba71-382223d73be6"
      },
      "execution_count": 2,
      "outputs": [
        {
          "output_type": "stream",
          "name": "stdout",
          "text": [
            "Looking in indexes: https://pypi.org/simple, https://us-python.pkg.dev/colab-wheels/public/simple/\n",
            "Collecting gym-super-mario-bros==7.4.0\n",
            "  Downloading gym_super_mario_bros-7.4.0-py3-none-any.whl (199 kB)\n",
            "\u001b[K     |████████████████████████████████| 199 kB 13.6 MB/s \n",
            "\u001b[?25hCollecting nes_py\n",
            "  Downloading nes_py-8.2.1.tar.gz (77 kB)\n",
            "\u001b[K     |████████████████████████████████| 77 kB 6.4 MB/s \n",
            "\u001b[?25hRequirement already satisfied: gym>=0.17.2 in /usr/local/lib/python3.7/dist-packages (from nes_py) (0.17.3)\n",
            "Requirement already satisfied: numpy>=1.18.5 in /usr/local/lib/python3.7/dist-packages (from nes_py) (1.21.6)\n",
            "Requirement already satisfied: pyglet<=1.5.21,>=1.4.0 in /usr/local/lib/python3.7/dist-packages (from nes_py) (1.5.0)\n",
            "Requirement already satisfied: tqdm>=4.48.2 in /usr/local/lib/python3.7/dist-packages (from nes_py) (4.64.0)\n",
            "Requirement already satisfied: cloudpickle<1.7.0,>=1.2.0 in /usr/local/lib/python3.7/dist-packages (from gym>=0.17.2->nes_py) (1.3.0)\n",
            "Requirement already satisfied: scipy in /usr/local/lib/python3.7/dist-packages (from gym>=0.17.2->nes_py) (1.4.1)\n",
            "Requirement already satisfied: future in /usr/local/lib/python3.7/dist-packages (from pyglet<=1.5.21,>=1.4.0->nes_py) (0.16.0)\n",
            "Building wheels for collected packages: nes-py\n",
            "  Building wheel for nes-py (setup.py) ... \u001b[?25l\u001b[?25hdone\n",
            "  Created wheel for nes-py: filename=nes_py-8.2.1-cp37-cp37m-linux_x86_64.whl size=438819 sha256=1e6f355c0150d0b6acabba0baced7ef5acdb0b60eb50ae40d09d2c1a343a6837\n",
            "  Stored in directory: /root/.cache/pip/wheels/17/96/0e/22a8c7dbdf412d8e988286f223b223baf0f4ad90c9e699c56d\n",
            "Successfully built nes-py\n",
            "Installing collected packages: nes-py, gym-super-mario-bros\n",
            "Successfully installed gym-super-mario-bros-7.4.0 nes-py-8.2.1\n"
          ]
        }
      ]
    },
    {
      "cell_type": "code",
      "source": [
        "# import the game\n",
        "import gym_super_mario_bros \n",
        "#import joypad wrapper\n",
        "from nes_py.wrappers import JoypadSpace\n",
        "#import SIMPLIFIED controls\n",
        "from gym_super_mario_bros.actions import SIMPLE_MOVEMENT\n",
        "\n",
        "# simple movement simplifies the actions which make easy to play, below are the control buttons used for various tasks\n",
        "#[['NOOP'],\n",
        " #['right'],\n",
        " #['right', 'A'],\n",
        " #['right', 'B'],\n",
        " #['right', 'A', 'B'],\n",
        " #['A'],\n",
        " #['left']]"
      ],
      "metadata": {
        "id": "Rt7nPb9S12fr"
      },
      "execution_count": 7,
      "outputs": []
    },
    {
      "cell_type": "code",
      "source": [
        "SIMPLE_MOVEMENT"
      ],
      "metadata": {
        "colab": {
          "base_uri": "https://localhost:8080/"
        },
        "id": "ZmBXTVXq6P7s",
        "outputId": "67a403d3-2ed0-4ade-da8e-86b3eb5440c1"
      },
      "execution_count": 11,
      "outputs": [
        {
          "output_type": "execute_result",
          "data": {
            "text/plain": [
              "[['NOOP'],\n",
              " ['right'],\n",
              " ['right', 'A'],\n",
              " ['right', 'B'],\n",
              " ['right', 'A', 'B'],\n",
              " ['A'],\n",
              " ['left']]"
            ]
          },
          "metadata": {},
          "execution_count": 11
        }
      ]
    },
    {
      "cell_type": "code",
      "source": [
        "#setup game/environment\n",
        "\n",
        "env = gym_super_mario_bros.make('SuperMarioBros-v0')\n",
        "#there are diff versions availabe on gym v0 is one of them we can choose another env to play as well\n",
        "env = JoypadSpace(env, SIMPLE_MOVEMENT)"
      ],
      "metadata": {
        "id": "s_1uvmC73Mmp"
      },
      "execution_count": 10,
      "outputs": []
    },
    {
      "cell_type": "code",
      "source": [
        "env.observation_space.shape \n",
        "#tells the pixel or the frame"
      ],
      "metadata": {
        "colab": {
          "base_uri": "https://localhost:8080/"
        },
        "id": "MOzLTJOC6V9F",
        "outputId": "f116c979-7d71-4437-b431-50af0c7595a2"
      },
      "execution_count": 12,
      "outputs": [
        {
          "output_type": "execute_result",
          "data": {
            "text/plain": [
              "(240, 256, 3)"
            ]
          },
          "metadata": {},
          "execution_count": 12
        }
      ]
    },
    {
      "cell_type": "code",
      "source": [
        "env.action_space\n",
        "#tells the no. of actions we can perform"
      ],
      "metadata": {
        "colab": {
          "base_uri": "https://localhost:8080/"
        },
        "id": "dgeFokXI6f_v",
        "outputId": "4c2132cf-0b8c-4307-c474-de5f42b333a4"
      },
      "execution_count": 21,
      "outputs": [
        {
          "output_type": "execute_result",
          "data": {
            "text/plain": [
              "Discrete(7)"
            ]
          },
          "metadata": {},
          "execution_count": 21
        }
      ]
    },
    {
      "cell_type": "code",
      "source": [
        "env.reset()"
      ],
      "metadata": {
        "colab": {
          "base_uri": "https://localhost:8080/"
        },
        "id": "Kp4FB7iPBL8I",
        "outputId": "16194f3f-734c-41d3-cc30-b2458e5bb305"
      },
      "execution_count": 23,
      "outputs": [
        {
          "output_type": "execute_result",
          "data": {
            "text/plain": [
              "array([[[104, 136, 252],\n",
              "        [104, 136, 252],\n",
              "        [104, 136, 252],\n",
              "        ...,\n",
              "        [104, 136, 252],\n",
              "        [104, 136, 252],\n",
              "        [104, 136, 252]],\n",
              "\n",
              "       [[104, 136, 252],\n",
              "        [104, 136, 252],\n",
              "        [104, 136, 252],\n",
              "        ...,\n",
              "        [104, 136, 252],\n",
              "        [104, 136, 252],\n",
              "        [104, 136, 252]],\n",
              "\n",
              "       [[104, 136, 252],\n",
              "        [104, 136, 252],\n",
              "        [104, 136, 252],\n",
              "        ...,\n",
              "        [104, 136, 252],\n",
              "        [104, 136, 252],\n",
              "        [104, 136, 252]],\n",
              "\n",
              "       ...,\n",
              "\n",
              "       [[240, 208, 176],\n",
              "        [228,  92,  16],\n",
              "        [228,  92,  16],\n",
              "        ...,\n",
              "        [228,  92,  16],\n",
              "        [228,  92,  16],\n",
              "        [  0,   0,   0]],\n",
              "\n",
              "       [[240, 208, 176],\n",
              "        [228,  92,  16],\n",
              "        [228,  92,  16],\n",
              "        ...,\n",
              "        [228,  92,  16],\n",
              "        [  0,   0,   0],\n",
              "        [  0,   0,   0]],\n",
              "\n",
              "       [[228,  92,  16],\n",
              "        [  0,   0,   0],\n",
              "        [  0,   0,   0],\n",
              "        ...,\n",
              "        [  0,   0,   0],\n",
              "        [  0,   0,   0],\n",
              "        [228,  92,  16]]], dtype=uint8)"
            ]
          },
          "metadata": {},
          "execution_count": 23
        }
      ]
    },
    {
      "cell_type": "code",
      "source": [
        "# Create a flag - restart or not\n",
        "done = True\n",
        "# Loop through each frame in the game\n",
        "for step in range(100000): \n",
        "    # Start the game to begin with \n",
        "    if done: \n",
        "        # Start the gamee\n",
        "        env.reset()\n",
        "    # Do random actions\n",
        "    state, reward, done, info = env.step(env.action_space.sample())\n",
        "    # Show the game on the screen\n",
        "    env.render()\n",
        "# Close the game\n",
        "env.close()"
      ],
      "metadata": {
        "id": "POYnIXG3C-iy"
      },
      "execution_count": null,
      "outputs": []
    },
    {
      "cell_type": "markdown",
      "source": [
        "# **2. PREPROCESS ENVIRONMENT**"
      ],
      "metadata": {
        "id": "hRUXWXOn0SDs"
      }
    },
    {
      "cell_type": "markdown",
      "source": [
        "# **3. TRAIN THE RL (reinforcement) MODEL**"
      ],
      "metadata": {
        "id": "xHB5iWF60doU"
      }
    },
    {
      "cell_type": "markdown",
      "source": [
        "# **4. TEST IT OUT**"
      ],
      "metadata": {
        "id": "r21k8G0S0owV"
      }
    }
  ]
}